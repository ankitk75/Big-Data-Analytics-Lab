{
 "cells": [
  {
   "cell_type": "markdown",
   "metadata": {},
   "source": [
    "Lab Exercises:\n",
    "\n",
    "1)\n",
    "Implement a PySpark script that applies transformations like filter and withColumn on a\n",
    "DataFrame.\n",
    "\n",
    "2) Write a PySpark script that performs actions like count and show on a DataFrame.\n",
    "\n",
    "3) Demonstrate how to perform basic aggregations (e.g., sum, average) on a PySpark\n",
    "DataFrame.\n",
    "\n",
    "4) Show how to write a PySpark DataFrame to a CSV file.\n",
    "\n",
    "5) Implement wordcount program in PySpark."
   ]
  },
  {
   "cell_type": "code",
   "execution_count": 42,
   "metadata": {},
   "outputs": [],
   "source": [
    "import pyspark\n",
    "from pyspark.sql import SparkSession\n",
    "from pyspark.sql import functions"
   ]
  },
  {
   "cell_type": "code",
   "execution_count": 43,
   "metadata": {},
   "outputs": [],
   "source": [
    "spark = SparkSession.builder.appName('Lab 2').getOrCreate()"
   ]
  },
  {
   "cell_type": "code",
   "execution_count": 44,
   "metadata": {},
   "outputs": [
    {
     "name": "stdout",
     "output_type": "stream",
     "text": [
      "5\n",
      "+---+-----+-------+----+\n",
      "| id| name|college|CGPA|\n",
      "+---+-----+-------+----+\n",
      "|  1|  Eve|    MIT| 9.5|\n",
      "|  2|  Bob|    IIT| 9.7|\n",
      "|  3| John|    MIT| 8.9|\n",
      "|  4| Jane|     DU| 8.5|\n",
      "|  5|Alice|    IIT| 9.1|\n",
      "+---+-----+-------+----+\n",
      "\n",
      "root\n",
      " |-- id: long (nullable = true)\n",
      " |-- name: string (nullable = true)\n",
      " |-- college: string (nullable = true)\n",
      " |-- CGPA: double (nullable = true)\n",
      "\n"
     ]
    }
   ],
   "source": [
    "df = spark.createDataFrame([\n",
    "    (1, 'Eve', 'MIT', 9.5),\n",
    "    (2, 'Bob', 'IIT', 9.7),\n",
    "    (3, 'John', 'MIT', 8.9),\n",
    "    (4, 'Jane', 'DU', 8.5),\n",
    "    (5, 'Alice', 'IIT', 9.1)\n",
    "    ], ['id', 'name', 'college', 'CGPA'])\n",
    "\n",
    "# Q2\n",
    "print(df.count())\n",
    "df.show()\n",
    "df.printSchema()\n"
   ]
  },
  {
   "cell_type": "code",
   "execution_count": 45,
   "metadata": {},
   "outputs": [
    {
     "name": "stdout",
     "output_type": "stream",
     "text": [
      "+---+----+-------+----+\n",
      "| id|name|college|CGPA|\n",
      "+---+----+-------+----+\n",
      "|  1| Eve|    MIT| 9.5|\n",
      "|  3|John|    MIT| 8.9|\n",
      "+---+----+-------+----+\n",
      "\n"
     ]
    }
   ],
   "source": [
    "# Q1\n",
    "df.filter(df.college == 'MIT').show()"
   ]
  },
  {
   "cell_type": "code",
   "execution_count": 46,
   "metadata": {},
   "outputs": [
    {
     "name": "stdout",
     "output_type": "stream",
     "text": [
      "+---+----+-------+----+\n",
      "| id|name|college|CGPA|\n",
      "+---+----+-------+----+\n",
      "|  3|John|    MIT| 8.9|\n",
      "|  4|Jane|     DU| 8.5|\n",
      "+---+----+-------+----+\n",
      "\n"
     ]
    }
   ],
   "source": [
    "# Q1\n",
    "df.filter(df[\"name\"].startswith(\"J\")).show()"
   ]
  },
  {
   "cell_type": "code",
   "execution_count": 47,
   "metadata": {},
   "outputs": [
    {
     "name": "stdout",
     "output_type": "stream",
     "text": [
      "+---+-----+-------+----+---+\n",
      "| id| name|college|CGPA|age|\n",
      "+---+-----+-------+----+---+\n",
      "|  1|  Eve|    MIT| 9.5| 10|\n",
      "|  2|  Bob|    IIT| 9.7| 20|\n",
      "|  3| John|    MIT| 8.9| 30|\n",
      "|  4| Jane|     DU| 8.5| 40|\n",
      "|  5|Alice|    IIT| 9.1| 50|\n",
      "+---+-----+-------+----+---+\n",
      "\n"
     ]
    }
   ],
   "source": [
    "# Q1\n",
    "df.withColumn('age', df[\"id\"]*10).show()"
   ]
  },
  {
   "cell_type": "code",
   "execution_count": 48,
   "metadata": {},
   "outputs": [
    {
     "name": "stdout",
     "output_type": "stream",
     "text": [
      "+---------+---------+---------+\n",
      "|min(CGPA)|max(CGPA)|avg(CGPA)|\n",
      "+---------+---------+---------+\n",
      "|      8.5|      9.7|     9.14|\n",
      "+---------+---------+---------+\n",
      "\n"
     ]
    }
   ],
   "source": [
    "# Q3\n",
    "df.agg(functions.min('CGPA'),\n",
    "       functions.max('CGPA'),\n",
    "       functions.mean('CGPA')).show()"
   ]
  },
  {
   "cell_type": "code",
   "execution_count": 49,
   "metadata": {},
   "outputs": [],
   "source": [
    "#Q4\n",
    "# df = df.coalesce(1)\n",
    "df.write.csv(\"/home/lplab/Desktop/210962158/Lab 2/saving as csv \")"
   ]
  },
  {
   "cell_type": "code",
   "execution_count": null,
   "metadata": {},
   "outputs": [],
   "source": []
  }
 ],
 "metadata": {
  "kernelspec": {
   "display_name": "Python 3",
   "language": "python",
   "name": "python3"
  },
  "language_info": {
   "codemirror_mode": {
    "name": "ipython",
    "version": 3
   },
   "file_extension": ".py",
   "mimetype": "text/x-python",
   "name": "python",
   "nbconvert_exporter": "python",
   "pygments_lexer": "ipython3",
   "version": "3.7.0"
  }
 },
 "nbformat": 4,
 "nbformat_minor": 2
}
