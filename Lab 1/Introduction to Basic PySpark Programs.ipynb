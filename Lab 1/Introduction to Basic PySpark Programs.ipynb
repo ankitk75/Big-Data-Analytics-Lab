{
 "cells": [
  {
   "cell_type": "code",
   "execution_count": 57,
   "metadata": {},
   "outputs": [],
   "source": [
    "from pyspark.sql import SparkSession\n",
    "from pyspark.sql.functions import pow, max, avg, col"
   ]
  },
  {
   "cell_type": "code",
   "execution_count": 58,
   "metadata": {},
   "outputs": [],
   "source": [
    "spark = SparkSession.builder.appName(\"Lab1\").getOrCreate()"
   ]
  },
  {
   "cell_type": "code",
   "execution_count": 52,
   "metadata": {},
   "outputs": [
    {
     "name": "stdout",
     "output_type": "stream",
     "text": [
      "root\n",
      " |-- Name: string (nullable = true)\n",
      " |-- CGPA: double (nullable = true)\n",
      " |-- Age: integer (nullable = true)\n",
      "\n",
      "+-----+----+---+\n",
      "| Name|CGPA|Age|\n",
      "+-----+----+---+\n",
      "| John| 9.4| 19|\n",
      "| Jane| 9.2| 20|\n",
      "|Alice| 9.1| 21|\n",
      "+-----+----+---+\n",
      "\n"
     ]
    }
   ],
   "source": [
    "df = spark.read.csv('lab1.csv', header = True, inferSchema=True)\n",
    "df.printSchema()\n",
    "df.show()"
   ]
  },
  {
   "cell_type": "code",
   "execution_count": 56,
   "metadata": {},
   "outputs": [
    {
     "name": "stdout",
     "output_type": "stream",
     "text": [
      "+-----+----+---+-------+\n",
      "| Name|CGPA|Age|Sq CGPA|\n",
      "+-----+----+---+-------+\n",
      "| John| 9.4| 19|  361.0|\n",
      "| Jane| 9.2| 20|  400.0|\n",
      "|Alice| 9.1| 21|  441.0|\n",
      "+-----+----+---+-------+\n",
      "\n"
     ]
    }
   ],
   "source": [
    "df.withColumn('Sq CGPA', pow(col('Age'), 2)).show()"
   ]
  },
  {
   "cell_type": "code",
   "execution_count": 53,
   "metadata": {},
   "outputs": [
    {
     "name": "stdout",
     "output_type": "stream",
     "text": [
      "+-------+\n",
      "|max_Age|\n",
      "+-------+\n",
      "|     21|\n",
      "+-------+\n",
      "\n"
     ]
    }
   ],
   "source": [
    "df.select(max(df.Age).alias('max_Age')).show()"
   ]
  },
  {
   "cell_type": "code",
   "execution_count": 54,
   "metadata": {},
   "outputs": [
    {
     "name": "stdout",
     "output_type": "stream",
     "text": [
      "+-----------------+\n",
      "|         avg CGPA|\n",
      "+-----------------+\n",
      "|9.233333333333334|\n",
      "+-----------------+\n",
      "\n"
     ]
    }
   ],
   "source": [
    "df.select(avg(df.CGPA).alias(\"avg CGPA\")).show()"
   ]
  },
  {
   "cell_type": "code",
   "execution_count": 50,
   "metadata": {},
   "outputs": [
    {
     "name": "stdout",
     "output_type": "stream",
     "text": [
      "+-------+----+\n",
      "|summary| Age|\n",
      "+-------+----+\n",
      "|  count|   3|\n",
      "|   mean|20.0|\n",
      "| stddev| 1.0|\n",
      "|    min|  19|\n",
      "|    max|  21|\n",
      "+-------+----+\n",
      "\n"
     ]
    }
   ],
   "source": [
    "df.select('Age').describe().show()"
   ]
  },
  {
   "cell_type": "code",
   "execution_count": null,
   "metadata": {},
   "outputs": [],
   "source": []
  }
 ],
 "metadata": {
  "kernelspec": {
   "display_name": "Python 3",
   "language": "python",
   "name": "python3"
  },
  "language_info": {
   "codemirror_mode": {
    "name": "ipython",
    "version": 3
   },
   "file_extension": ".py",
   "mimetype": "text/x-python",
   "name": "python",
   "nbconvert_exporter": "python",
   "pygments_lexer": "ipython3",
   "version": "3.7.0"
  }
 },
 "nbformat": 4,
 "nbformat_minor": 2
}
