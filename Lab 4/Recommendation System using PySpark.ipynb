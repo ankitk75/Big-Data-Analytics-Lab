{
 "cells": [
  {
   "cell_type": "markdown",
   "metadata": {},
   "source": [
    "# Recommendation System using PySpark"
   ]
  },
  {
   "cell_type": "markdown",
   "metadata": {},
   "source": [
    "A recommendation system is a software application that suggests items or content to users based on\n",
    "their preferences, behaviors, and historical interactions. It leverages algorithms to analyze user data and\n",
    "identify patterns, aiming to provide personalized and relevant recommendations. There are two primary\n",
    "types of recommendation systems: collaborative filtering, which recommends items based on the\n",
    "preferences of users with similar tastes, and content-based filtering, which suggests items similar to\n",
    "those the user has previously liked. Hybrid approaches combine these methods for more robust and\n",
    "accurate suggestions. Recommendation systems are widely used in e-commerce platforms, streaming\n",
    "services, social media, and other online applications to enhance user experience, engagement, and\n",
    "satisfaction by delivering tailored content or product suggestions."
   ]
  },
  {
   "cell_type": "markdown",
   "metadata": {},
   "source": [
    "Lab Exercises:\n",
    "\n",
    "1) Demonstrate how to load a dataset suitable for recommendation systems into a PySpark\n",
    "DataFrame.\n",
    "\n",
    "2) Implement a PySpark script that splits the data and trains a recommendation model.\n",
    "\n",
    "3) Implement a PySpark script using the ALS algorithm for collaborative filtering.\n",
    "\n",
    "4) Implement code to evaluate the performance of the recommendation model using\n",
    "appropriate metrics."
   ]
  },
  {
   "cell_type": "code",
   "execution_count": 8,
   "metadata": {},
   "outputs": [
    {
     "name": "stdout",
     "output_type": "stream",
     "text": [
      "+--------------+----------+-----+\n",
      "|       user_id|product_id|score|\n",
      "+--------------+----------+-----+\n",
      "|A141HP4LYPWMSR|B003AI2VGA|  3.0|\n",
      "|A328S9RN3U5M68|B003AI2VGA|  3.0|\n",
      "|A1I7QGUDP043DG|B003AI2VGA|  5.0|\n",
      "|A1M5405JH9THP9|B003AI2VGA|  3.0|\n",
      "| ATXL536YX71TR|B003AI2VGA|  3.0|\n",
      "|A3QYDL5CDNYN66|B003AI2VGA|  2.0|\n",
      "| AQJVNDW6YZFQS|B003AI2VGA|  1.0|\n",
      "| AD4CDZK7D31XP|B00006HAXW|  5.0|\n",
      "|A3Q4S5DFVPB70D|B00006HAXW|  5.0|\n",
      "|A2P7UB02HAVEPB|B00006HAXW|  5.0|\n",
      "|A2TX99AZKDK0V7|B00006HAXW|  4.0|\n",
      "| AFC8IKR407HSK|B00006HAXW|  5.0|\n",
      "|A1FRPGQYQTAOR1|B00006HAXW|  5.0|\n",
      "|A1RSDE90N6RSZF|B00006HAXW|  5.0|\n",
      "|A1OUBOGB5970AO|B00006HAXW|  4.0|\n",
      "|A3NPHQVIY59Y0Y|B00006HAXW|  5.0|\n",
      "| AFKMBAY28XO8A|B00006HAXW|  5.0|\n",
      "| A66KMXH9V7OGU|B00006HAXW|  5.0|\n",
      "| AFJ27ZV9183B8|B00006HAXW|  5.0|\n",
      "| AXMKAXC0TR9AW|B00006HAXW|  5.0|\n",
      "+--------------+----------+-----+\n",
      "only showing top 20 rows\n",
      "\n"
     ]
    }
   ],
   "source": [
    "from pyspark.sql import SparkSession\n",
    "from pyspark.sql import functions as f\n",
    "spark = SparkSession.builder.getOrCreate()\n",
    "\n",
    "ratings = spark.read.json(\"movies 1.json\").select(\"user_id\",\"product_id\",\"score\").cache()\n",
    "ratings = ratings.head(10000)\n",
    "ratings = spark.createDataFrame(ratings)\n",
    "\n",
    "ratings.show()"
   ]
  },
  {
   "cell_type": "code",
   "execution_count": 9,
   "metadata": {},
   "outputs": [
    {
     "name": "stdout",
     "output_type": "stream",
     "text": [
      "+--------------+----------+-----+-------------+----------------+----------+\n",
      "|user_id       |product_id|score|user_id_index|product_id_index|prediction|\n",
      "+--------------+----------+-----+-------------+----------------+----------+\n",
      "|A18758S1PUYIDT|B000063W1R|4.0  |27.0         |7.0             |1.6933117 |\n",
      "|AJYGQV81FSFE2 |B000NDFLWG|4.0  |599.0        |91.0            |6.0264754 |\n",
      "|A87RT63V7SMD3 |B000063W1R|4.0  |565.0        |7.0             |-1.0291104|\n",
      "|AQ01Q3070LT29 |B000063W1R|1.0  |38.0         |7.0             |0.77850187|\n",
      "|A1N8K1X0OLLADY|B000063W1R|5.0  |303.0        |7.0             |0.08824549|\n",
      "|A2582KMXLK2P06|B00004CQT3|3.0  |66.0         |75.0            |-13.813685|\n",
      "|A1GGOC9PVDXW7Z|B008FPU7AA|4.0  |0.0          |112.0           |4.055148  |\n",
      "|A1GHUN5HXMHZ89|B000063W1R|4.0  |18.0         |7.0             |1.2238578 |\n",
      "|A15Q7ABIU9O9YZ|B0001G6PZC|5.0  |243.0        |1.0             |2.174233  |\n",
      "|AUEHG0DB54B7K |B0001G6PZC|5.0  |623.0        |1.0             |1.8417726 |\n",
      "+--------------+----------+-----+-------------+----------------+----------+\n",
      "only showing top 10 rows\n",
      "\n"
     ]
    }
   ],
   "source": [
    "from pyspark.ml.recommendation import ALS\n",
    "from pyspark.ml.evaluation import RegressionEvaluator\n",
    "from pyspark.ml.feature import StringIndexer\n",
    "from pyspark.ml import Pipeline\n",
    "\n",
    "indexers = [\n",
    "    StringIndexer(inputCol=column, outputCol=column+\"_index\").fit(ratings)\n",
    "    for column in [\"user_id\", \"product_id\"]\n",
    "]\n",
    "pipeline = Pipeline(stages=indexers)\n",
    "ratings_indexed = pipeline.fit(ratings).transform(ratings)\n",
    "\n",
    "training_data,validation_data = ratings_indexed.randomSplit([8.0,2.0])\n",
    "\n",
    "als = ALS(userCol=\"user_id_index\",itemCol=\"product_id_index\",ratingCol=\"score\",rank=10,maxIter=5,regParam=0.01,coldStartStrategy=\"drop\")\n",
    "evaluator = RegressionEvaluator(metricName=\"rmse\",labelCol=\"score\",predictionCol=\"prediction\")\n",
    "\n",
    "model = als.fit(training_data)\n",
    "predictions=model.transform(validation_data)\n",
    "predictions.show(10,False)\n"
   ]
  },
  {
   "cell_type": "code",
   "execution_count": 6,
   "metadata": {},
   "outputs": [
    {
     "name": "stdout",
     "output_type": "stream",
     "text": [
      "+----------+-------------+-------------+----------------+\n",
      "|product_id|      user_id|user_id_index|product_id_index|\n",
      "+----------+-------------+-------------+----------------+\n",
      "|B004EPYZQM|ANCOMAI0I7LVG|          1.0|             9.0|\n",
      "|B00004RXMK|ANCOMAI0I7LVG|          1.0|            62.0|\n",
      "|B001AQT0VI|ANCOMAI0I7LVG|          1.0|            15.0|\n",
      "+----------+-------------+-------------+----------------+\n",
      "\n",
      "+----------+-------------+-------------+----------------+----------+\n",
      "|product_id|      user_id|user_id_index|product_id_index|prediction|\n",
      "+----------+-------------+-------------+----------------+----------+\n",
      "|B004EPYZQM|ANCOMAI0I7LVG|          1.0|             9.0| 5.7559237|\n",
      "|B001AQT0VI|ANCOMAI0I7LVG|          1.0|            15.0| -4.647329|\n",
      "|B00004RXMK|ANCOMAI0I7LVG|          1.0|            62.0| -6.248013|\n",
      "+----------+-------------+-------------+----------------+----------+\n",
      "\n"
     ]
    }
   ],
   "source": [
    "user1 = validation_data.filter(validation_data['user_id_index']==1.0).select(['product_id','user_id','user_id_index','product_id_index'])\n",
    "user1.show()\n",
    "recommendations = model.transform(user1) \n",
    "recommendations.orderBy('prediction',ascending=False).show()"
   ]
  },
  {
   "cell_type": "code",
   "execution_count": 7,
   "metadata": {},
   "outputs": [
    {
     "name": "stdout",
     "output_type": "stream",
     "text": [
      "Root Mean Squared Error (RMSE) = 4.818847318876777\n",
      "Mean Absolute Error (MAE) = 3.736825553559404\n"
     ]
    }
   ],
   "source": [
    "rmse = evaluator.evaluate(predictions)\n",
    "print(f\"Root Mean Squared Error (RMSE) = {rmse}\")\n",
    "\n",
    "# Additional Evaluation Metric: Mean Absolute Error (MAE)\n",
    "evaluator_mae = RegressionEvaluator(\n",
    "    metricName=\"mae\",\n",
    "    labelCol=\"score\",\n",
    "    predictionCol=\"prediction\"\n",
    ")\n",
    "\n",
    "mae = evaluator_mae.evaluate(predictions)\n",
    "print(f\"Mean Absolute Error (MAE) = {mae}\")"
   ]
  },
  {
   "cell_type": "code",
   "execution_count": null,
   "metadata": {},
   "outputs": [],
   "source": [
    "# TP=cm1.filter(\"above==true\").select(\"true\").collect()[0].true\n",
    "# TN=cm1.filter(\"above==true\").select(\"false\").collect()[0].false\n",
    "# FP=cm1.filter(\"above==false\").select(\"true\").collect()[0].true\n",
    "# FN=cm1.filter(\"above==false\").select(\"false\").collect()[0].false\n",
    "\n",
    "# precision = TP/(TP + FP)\n",
    "# recall = TP/(TP + FN)\n",
    "# f1score = 2*precision*recall/(precision+recall)\n",
    "\n",
    "# print(f\"Precision->{precision}\\nRecall->{recall}\\nF1-Score->{f1score}\")"
   ]
  }
 ],
 "metadata": {
  "kernelspec": {
   "display_name": "Python 3",
   "language": "python",
   "name": "python3"
  },
  "language_info": {
   "codemirror_mode": {
    "name": "ipython",
    "version": 3
   },
   "file_extension": ".py",
   "mimetype": "text/x-python",
   "name": "python",
   "nbconvert_exporter": "python",
   "pygments_lexer": "ipython3",
   "version": "3.7.0"
  }
 },
 "nbformat": 4,
 "nbformat_minor": 2
}
