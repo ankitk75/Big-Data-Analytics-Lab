{
 "cells": [
  {
   "cell_type": "code",
   "execution_count": 5,
   "id": "c456a7dd-7321-4755-9b8e-6767ac4313b0",
   "metadata": {},
   "outputs": [],
   "source": [
    "from pyspark.sql import SparkSession\n",
    "from pyspark.sql.functions import col, split, explode\n",
    "from pyspark.ml.feature import StringIndexer, VectorAssembler\n",
    "from pyspark.ml.classification import DecisionTreeClassifier, RandomForestClassifier\n",
    "from pyspark.ml import Pipeline\n",
    "from pyspark.ml.evaluation import MulticlassClassificationEvaluator\n",
    "from pyspark.ml.tuning import ParamGridBuilder, CrossValidator\n",
    "from sklearn.metrics import confusion_matrix, accuracy_score, precision_score, recall_score, f1_score"
   ]
  },
  {
   "cell_type": "code",
   "execution_count": 6,
   "id": "777a30a6-dd4f-48c8-b024-3ce30d64f462",
   "metadata": {},
   "outputs": [
    {
     "name": "stderr",
     "output_type": "stream",
     "text": [
      "24/04/17 01:21:15 WARN Utils: Your hostname, pranavs-MacBook-Pro.local resolves to a loopback address: 127.0.0.1; using 10.86.1.243 instead (on interface en0)\n",
      "24/04/17 01:21:15 WARN Utils: Set SPARK_LOCAL_IP if you need to bind to another address\n",
      "Setting default log level to \"WARN\".\n",
      "To adjust logging level use sc.setLogLevel(newLevel). For SparkR, use setLogLevel(newLevel).\n",
      "24/04/17 01:21:15 WARN NativeCodeLoader: Unable to load native-hadoop library for your platform... using builtin-java classes where applicable\n",
      "24/04/17 01:21:29 WARN GarbageCollectionMetrics: To enable non-built-in garbage collector(s) List(G1 Concurrent GC), users should configure it(them) to spark.eventLog.gcMetrics.youngGenerationGarbageCollectors or spark.eventLog.gcMetrics.oldGenerationGarbageCollectors\n"
     ]
    }
   ],
   "source": [
    "spark = SparkSession.builder \\\n",
    "    .appName(\"Movie Analysis\") \\\n",
    "    .getOrCreate()"
   ]
  },
  {
   "cell_type": "code",
   "execution_count": 7,
   "id": "d7fed0d1-024e-4857-b8a7-6e2c07fc5575",
   "metadata": {},
   "outputs": [],
   "source": [
    "movies_df = spark.read.option(\"header\", True).csv(\"/Users/pranavkumar/Downloads/movies.csv\")\n"
   ]
  },
  {
   "cell_type": "code",
   "execution_count": 17,
   "id": "a9ff48df-98c9-49b5-b4c4-430a6d5934de",
   "metadata": {},
   "outputs": [],
   "source": [
    "genres_df = movies_df.withColumn(\"genre\", explode(split(col(\"genres\"), \"\\\\|\")))\n",
    "genres_count = genres_df.groupBy(\"genre\").count()"
   ]
  },
  {
   "cell_type": "code",
   "execution_count": 11,
   "id": "4b2929ea-6513-4693-8b94-5a6969a105a1",
   "metadata": {},
   "outputs": [
    {
     "name": "stdout",
     "output_type": "stream",
     "text": [
      "+-------+--------------------+--------------------+---------+\n",
      "|movieId|               title|              genres|    genre|\n",
      "+-------+--------------------+--------------------+---------+\n",
      "|      1|    Toy Story (1995)|Adventure|Animati...|Adventure|\n",
      "|      1|    Toy Story (1995)|Adventure|Animati...|Animation|\n",
      "|      1|    Toy Story (1995)|Adventure|Animati...| Children|\n",
      "|      1|    Toy Story (1995)|Adventure|Animati...|   Comedy|\n",
      "|      1|    Toy Story (1995)|Adventure|Animati...|  Fantasy|\n",
      "|      2|      Jumanji (1995)|Adventure|Childre...|Adventure|\n",
      "|      2|      Jumanji (1995)|Adventure|Childre...| Children|\n",
      "|      2|      Jumanji (1995)|Adventure|Childre...|  Fantasy|\n",
      "|      3|Grumpier Old Men ...|      Comedy|Romance|   Comedy|\n",
      "|      3|Grumpier Old Men ...|      Comedy|Romance|  Romance|\n",
      "|      4|Waiting to Exhale...|Comedy|Drama|Romance|   Comedy|\n",
      "|      4|Waiting to Exhale...|Comedy|Drama|Romance|    Drama|\n",
      "|      4|Waiting to Exhale...|Comedy|Drama|Romance|  Romance|\n",
      "|      5|Father of the Bri...|              Comedy|   Comedy|\n",
      "|      6|         Heat (1995)|Action|Crime|Thri...|   Action|\n",
      "|      6|         Heat (1995)|Action|Crime|Thri...|    Crime|\n",
      "|      6|         Heat (1995)|Action|Crime|Thri...| Thriller|\n",
      "|      7|      Sabrina (1995)|      Comedy|Romance|   Comedy|\n",
      "|      7|      Sabrina (1995)|      Comedy|Romance|  Romance|\n",
      "|      8| Tom and Huck (1995)|  Adventure|Children|Adventure|\n",
      "+-------+--------------------+--------------------+---------+\n",
      "only showing top 20 rows\n",
      "\n"
     ]
    }
   ],
   "source": [
    "genres_df.show()"
   ]
  },
  {
   "cell_type": "code",
   "execution_count": 12,
   "id": "134b95a9-7659-4987-abed-1e484d31aab2",
   "metadata": {},
   "outputs": [],
   "source": [
    "movies_df = movies_df.withColumn(\"year\", col(\"title\").substr(-5, 4))\n"
   ]
  },
  {
   "cell_type": "code",
   "execution_count": 13,
   "id": "79536a20-255f-4c0b-b41e-fff045cb073d",
   "metadata": {},
   "outputs": [
    {
     "name": "stdout",
     "output_type": "stream",
     "text": [
      "+-------+--------------------+--------------------+----+\n",
      "|movieId|               title|              genres|year|\n",
      "+-------+--------------------+--------------------+----+\n",
      "|      1|    Toy Story (1995)|Adventure|Animati...|1995|\n",
      "|      2|      Jumanji (1995)|Adventure|Childre...|1995|\n",
      "|      3|Grumpier Old Men ...|      Comedy|Romance|1995|\n",
      "|      4|Waiting to Exhale...|Comedy|Drama|Romance|1995|\n",
      "|      5|Father of the Bri...|              Comedy|1995|\n",
      "|      6|         Heat (1995)|Action|Crime|Thri...|1995|\n",
      "|      7|      Sabrina (1995)|      Comedy|Romance|1995|\n",
      "|      8| Tom and Huck (1995)|  Adventure|Children|1995|\n",
      "|      9| Sudden Death (1995)|              Action|1995|\n",
      "|     10|    GoldenEye (1995)|Action|Adventure|...|1995|\n",
      "|     11|American Presiden...|Comedy|Drama|Romance|1995|\n",
      "|     12|Dracula: Dead and...|       Comedy|Horror|1995|\n",
      "|     13|        Balto (1995)|Adventure|Animati...|1995|\n",
      "|     14|        Nixon (1995)|               Drama|1995|\n",
      "|     15|Cutthroat Island ...|Action|Adventure|...|1995|\n",
      "|     16|       Casino (1995)|         Crime|Drama|1995|\n",
      "|     17|Sense and Sensibi...|       Drama|Romance|1995|\n",
      "|     18|   Four Rooms (1995)|              Comedy|1995|\n",
      "|     19|Ace Ventura: When...|              Comedy|1995|\n",
      "|     20|  Money Train (1995)|Action|Comedy|Cri...|1995|\n",
      "+-------+--------------------+--------------------+----+\n",
      "only showing top 20 rows\n",
      "\n"
     ]
    }
   ],
   "source": [
    "movies_df.show()"
   ]
  },
  {
   "cell_type": "code",
   "execution_count": 14,
   "id": "3fc44286-5e58-4b92-86ae-99420f3357e7",
   "metadata": {},
   "outputs": [],
   "source": [
    "genres_year_count = movies_df.withColumn(\"genre\", explode(split(col(\"genres\"), \"\\\\|\"))) \\\n",
    "    .groupBy(\"year\", \"genre\").count()"
   ]
  },
  {
   "cell_type": "code",
   "execution_count": 15,
   "id": "82eb5995-8f43-4e98-9e67-33b4c0206b53",
   "metadata": {},
   "outputs": [
    {
     "name": "stdout",
     "output_type": "stream",
     "text": [
      "+----+------------------+-----+\n",
      "|year|             genre|count|\n",
      "+----+------------------+-----+\n",
      "|1994|             Crime|   66|\n",
      "|1967|             Drama|  171|\n",
      "|1958|             Drama|  156|\n",
      "|1941|           Mystery|   26|\n",
      "|1984|            Comedy|  162|\n",
      "|1997|          Children|   78|\n",
      "|1998|               War|   26|\n",
      "|1978|         Adventure|   45|\n",
      "|1973|           Musical|   10|\n",
      "|1922|           Mystery|    3|\n",
      "|2003|           Musical|   19|\n",
      "|1966|            Horror|   41|\n",
      "|2006|         Adventure|  116|\n",
      "|2008|           Fantasy|   95|\n",
      "|1925|             Crime|    3|\n",
      "|1912|            Comedy|   10|\n",
      "|010)|               War|    1|\n",
      "|1928|(no genres listed)|    5|\n",
      "|1950|(no genres listed)|   24|\n",
      "|arit|(no genres listed)|    1|\n",
      "+----+------------------+-----+\n",
      "only showing top 20 rows\n",
      "\n"
     ]
    }
   ],
   "source": [
    "genres_year_count.show()"
   ]
  },
  {
   "cell_type": "code",
   "execution_count": 207,
   "id": "235ec0dd-cdee-4880-8384-671475e6f76b",
   "metadata": {},
   "outputs": [],
   "source": [
    "indexer = StringIndexer(inputCol=\"year\", outputCol=\"year_index\",handleInvalid=\"keep\")\n",
    "assembler = VectorAssembler(inputCols=[\"year_index\", \"title_length\"], outputCol=\"features\")\n",
    "\n",
    "# Calculate title length\n",
    "from pyspark.sql.functions import length\n"
   ]
  },
  {
   "cell_type": "code",
   "execution_count": 208,
   "id": "1e8b1c2c-c70f-49a6-b74f-3415a978812d",
   "metadata": {},
   "outputs": [
    {
     "name": "stdout",
     "output_type": "stream",
     "text": [
      "StringIndexer_e1548e6c89b3\n"
     ]
    }
   ],
   "source": [
    "print(indexer)"
   ]
  },
  {
   "cell_type": "code",
   "execution_count": 209,
   "id": "755c0ed2-a3cf-4f2a-962b-825a2dce75fa",
   "metadata": {},
   "outputs": [],
   "source": [
    "movies_df = movies_df.withColumn(\"title_length\", (length(col(\"title\")) - 7))  # Assuming the year is always 4 characters (e.g., \"(1995)\")\n"
   ]
  },
  {
   "cell_type": "code",
   "execution_count": 211,
   "id": "7bdbcb0f-d128-4b4b-b98a-0af939f4d6cb",
   "metadata": {},
   "outputs": [],
   "source": [
    "indexer2 = StringIndexer(inputCol=\"genre\", outputCol=\"genre_index\")"
   ]
  },
  {
   "cell_type": "code",
   "execution_count": 212,
   "id": "d06642ec-e129-46b0-9cdb-c3880824d417",
   "metadata": {
    "scrolled": true
   },
   "outputs": [
    {
     "name": "stdout",
     "output_type": "stream",
     "text": [
      "+-------+--------------------+--------------------+----+------------+-----------+\n",
      "|movieId|               title|              genres|year|title_length|genre_index|\n",
      "+-------+--------------------+--------------------+----+------------+-----------+\n",
      "|      1|    Toy Story (1995)|Adventure|Animati...|1995|           9|      140.0|\n",
      "|      2|      Jumanji (1995)|Adventure|Childre...|1995|           7|      102.0|\n",
      "|      3|Grumpier Old Men ...|      Comedy|Romance|1995|          16|        7.0|\n",
      "|      4|Waiting to Exhale...|Comedy|Drama|Romance|1995|          17|        9.0|\n",
      "|      5|Father of the Bri...|              Comedy|1995|          27|        2.0|\n",
      "|      6|         Heat (1995)|Action|Crime|Thri...|1995|           4|       31.0|\n",
      "|      7|      Sabrina (1995)|      Comedy|Romance|1995|           7|        7.0|\n",
      "|      8| Tom and Huck (1995)|  Adventure|Children|1995|          12|       71.0|\n",
      "|      9| Sudden Death (1995)|              Action|1995|          12|       15.0|\n",
      "|     10|    GoldenEye (1995)|Action|Adventure|...|1995|           9|       93.0|\n",
      "|     11|American Presiden...|Comedy|Drama|Romance|1995|          23|        9.0|\n",
      "|     12|Dracula: Dead and...|       Comedy|Horror|1995|          27|       21.0|\n",
      "|     13|        Balto (1995)|Adventure|Animati...|1995|           5|       90.0|\n",
      "|     14|        Nixon (1995)|               Drama|1995|           5|        0.0|\n",
      "|     15|Cutthroat Island ...|Action|Adventure|...|1995|          16|      222.0|\n",
      "|     16|       Casino (1995)|         Crime|Drama|1995|           6|       12.0|\n",
      "|     17|Sense and Sensibi...|       Drama|Romance|1995|          21|        5.0|\n",
      "|     18|   Four Rooms (1995)|              Comedy|1995|          10|        2.0|\n",
      "|     19|Ace Ventura: When...|              Comedy|1995|          30|        2.0|\n",
      "|     20|  Money Train (1995)|Action|Comedy|Cri...|1995|          11|      363.0|\n",
      "+-------+--------------------+--------------------+----+------------+-----------+\n",
      "only showing top 20 rows\n",
      "\n"
     ]
    },
    {
     "name": "stderr",
     "output_type": "stream",
     "text": [
      "                                                                                \r"
     ]
    }
   ],
   "source": [
    "# movies_df = assembler.transform(movies_df)\n",
    "movies_df.show()"
   ]
  },
  {
   "cell_type": "code",
   "execution_count": 213,
   "id": "728421da-10d4-4673-8739-5312b915e204",
   "metadata": {},
   "outputs": [],
   "source": [
    "# from pyspark.ml.feature import PCA\n",
    "# pca = PCA(k=2, inputCol=\"features\", outputCol=\"pca_features\")\n",
    "dt = DecisionTreeClassifier(labelCol=\"genre_index\", featuresCol=\"features\", maxDepth=5)\n"
   ]
  },
  {
   "cell_type": "code",
   "execution_count": 226,
   "id": "5b588594-be7b-4a9a-88c9-6a1673ac00d6",
   "metadata": {},
   "outputs": [],
   "source": [
    "# dt = DecisionTreeClassifier(featuresCol=\"features\", labelCol=\"genre_index\")\n",
    "rf = RandomForestClassifier(featuresCol=\"features\", labelCol=\"genre_index\",maxBins=800)"
   ]
  },
  {
   "cell_type": "code",
   "execution_count": 227,
   "id": "294258c9-7a76-4474-b9e0-6ab06d06cae1",
   "metadata": {},
   "outputs": [],
   "source": [
    "pipeline_dt = Pipeline(stages=[dt])\n",
    "\n",
    "pipeline_rf = Pipeline(stages=[indexer, assembler, rf])"
   ]
  },
  {
   "cell_type": "code",
   "execution_count": 228,
   "id": "7fae40f1-97ba-4409-b317-1e2f3a75dedb",
   "metadata": {},
   "outputs": [],
   "source": [
    "paramGrid = ParamGridBuilder() \\\n",
    "    .addGrid(dt.maxDepth, [5, 10]) \\\n",
    "    .addGrid(rf.numTrees, [10, 20]) \\\n",
    "    .build()"
   ]
  },
  {
   "cell_type": "code",
   "execution_count": 229,
   "id": "e5d52d2b-064f-49c7-a159-fd27a099f57f",
   "metadata": {},
   "outputs": [],
   "source": [
    "evaluator = MulticlassClassificationEvaluator(labelCol=\"genre_index\", predictionCol=\"prediction\", metricName=\"accuracy\")\n"
   ]
  },
  {
   "cell_type": "code",
   "execution_count": 230,
   "id": "7d0b80eb-4563-4402-b469-cb26ba252413",
   "metadata": {},
   "outputs": [],
   "source": [
    "crossval_dt = CrossValidator(estimator=pipeline_dt,\n",
    "                             estimatorParamMaps=paramGrid,\n",
    "                             evaluator=evaluator,\n",
    "                             numFolds=5)\n",
    "crossval_rf = CrossValidator(estimator=pipeline_rf,\n",
    "                             estimatorParamMaps=paramGrid,\n",
    "                             evaluator=evaluator,\n",
    "                             numFolds=5)"
   ]
  },
  {
   "cell_type": "code",
   "execution_count": 231,
   "id": "4cc04c9f-f8da-4cf2-ac23-6a46495b64e5",
   "metadata": {},
   "outputs": [
    {
     "name": "stderr",
     "output_type": "stream",
     "text": [
      "24/04/17 02:58:48 WARN DAGScheduler: Broadcasting large task binary with size 1028.9 KiB\n",
      "24/04/17 02:58:50 WARN DAGScheduler: Broadcasting large task binary with size 1138.2 KiB\n",
      "24/04/17 02:58:53 WARN DAGScheduler: Broadcasting large task binary with size 1515.1 KiB\n",
      "24/04/17 02:58:55 WARN DAGScheduler: Broadcasting large task binary with size 2.2 MiB\n",
      "24/04/17 02:58:57 WARN DAGScheduler: Broadcasting large task binary with size 1264.6 KiB\n",
      "24/04/17 02:58:59 WARN DAGScheduler: Broadcasting large task binary with size 2.2 MiB\n",
      "24/04/17 02:59:02 WARN DAGScheduler: Broadcasting large task binary with size 2.5 MiB\n",
      "24/04/17 02:59:04 WARN DAGScheduler: Broadcasting large task binary with size 2.3 MiB\n",
      "24/04/17 02:59:07 WARN DAGScheduler: Broadcasting large task binary with size 1514.7 KiB\n",
      "24/04/17 02:59:09 WARN DAGScheduler: Broadcasting large task binary with size 2.0 MiB\n",
      "24/04/17 02:59:11 WARN DAGScheduler: Broadcasting large task binary with size 1731.1 KiB\n",
      "24/04/17 02:59:13 WARN DAGScheduler: Broadcasting large task binary with size 6.7 MiB\n",
      "24/04/17 02:59:23 WARN DAGScheduler: Broadcasting large task binary with size 1024.9 KiB\n",
      "24/04/17 02:59:25 WARN DAGScheduler: Broadcasting large task binary with size 1132.4 KiB\n",
      "24/04/17 02:59:27 WARN DAGScheduler: Broadcasting large task binary with size 1515.8 KiB\n",
      "24/04/17 02:59:30 WARN DAGScheduler: Broadcasting large task binary with size 2.2 MiB\n",
      "24/04/17 02:59:32 WARN DAGScheduler: Broadcasting large task binary with size 1270.9 KiB\n",
      "24/04/17 02:59:34 WARN DAGScheduler: Broadcasting large task binary with size 1436.8 KiB\n",
      "24/04/17 02:59:36 WARN DAGScheduler: Broadcasting large task binary with size 3.6 MiB\n",
      "24/04/17 02:59:39 WARN DAGScheduler: Broadcasting large task binary with size 2.2 MiB\n",
      "24/04/17 02:59:41 WARN DAGScheduler: Broadcasting large task binary with size 1475.8 KiB\n",
      "24/04/17 02:59:43 WARN DAGScheduler: Broadcasting large task binary with size 2.1 MiB\n",
      "24/04/17 02:59:46 WARN DAGScheduler: Broadcasting large task binary with size 1870.7 KiB\n",
      "24/04/17 02:59:48 WARN DAGScheduler: Broadcasting large task binary with size 2.3 MiB\n",
      "24/04/17 02:59:50 WARN DAGScheduler: Broadcasting large task binary with size 1297.9 KiB\n",
      "24/04/17 02:59:53 WARN DAGScheduler: Broadcasting large task binary with size 1643.1 KiB\n",
      "24/04/17 02:59:55 WARN DAGScheduler: Broadcasting large task binary with size 2032.7 KiB\n",
      "24/04/17 02:59:57 WARN DAGScheduler: Broadcasting large task binary with size 1452.2 KiB\n",
      "24/04/17 02:59:59 WARN DAGScheduler: Broadcasting large task binary with size 1517.8 KiB\n",
      "24/04/17 03:00:02 WARN DAGScheduler: Broadcasting large task binary with size 2.2 MiB\n",
      "24/04/17 03:00:04 WARN DAGScheduler: Broadcasting large task binary with size 1452.7 KiB\n",
      "24/04/17 03:00:06 WARN DAGScheduler: Broadcasting large task binary with size 2.1 MiB\n",
      "24/04/17 03:00:09 WARN DAGScheduler: Broadcasting large task binary with size 1861.2 KiB\n",
      "24/04/17 03:00:12 WARN DAGScheduler: Broadcasting large task binary with size 1164.4 KiB\n",
      "24/04/17 03:00:15 WARN DAGScheduler: Broadcasting large task binary with size 13.4 MiB\n",
      "24/04/17 03:00:26 WARN DAGScheduler: Broadcasting large task binary with size 1029.0 KiB\n",
      "24/04/17 03:00:29 WARN DAGScheduler: Broadcasting large task binary with size 1138.3 KiB\n",
      "24/04/17 03:00:31 WARN DAGScheduler: Broadcasting large task binary with size 1515.1 KiB\n",
      "24/04/17 03:00:33 WARN DAGScheduler: Broadcasting large task binary with size 2.2 MiB\n",
      "24/04/17 03:00:35 WARN DAGScheduler: Broadcasting large task binary with size 1264.6 KiB\n",
      "24/04/17 03:00:38 WARN DAGScheduler: Broadcasting large task binary with size 2.2 MiB\n",
      "24/04/17 03:00:40 WARN DAGScheduler: Broadcasting large task binary with size 2.5 MiB\n",
      "24/04/17 03:00:43 WARN DAGScheduler: Broadcasting large task binary with size 2.3 MiB\n",
      "24/04/17 03:00:45 WARN DAGScheduler: Broadcasting large task binary with size 1514.7 KiB\n",
      "24/04/17 03:00:47 WARN DAGScheduler: Broadcasting large task binary with size 2.0 MiB\n",
      "24/04/17 03:00:49 WARN DAGScheduler: Broadcasting large task binary with size 1731.1 KiB\n",
      "24/04/17 03:00:51 WARN DAGScheduler: Broadcasting large task binary with size 6.7 MiB\n",
      "24/04/17 03:01:01 WARN DAGScheduler: Broadcasting large task binary with size 1024.9 KiB\n",
      "24/04/17 03:01:03 WARN DAGScheduler: Broadcasting large task binary with size 1132.4 KiB\n",
      "24/04/17 03:01:05 WARN DAGScheduler: Broadcasting large task binary with size 1515.8 KiB\n",
      "24/04/17 03:01:08 WARN DAGScheduler: Broadcasting large task binary with size 2.2 MiB\n",
      "24/04/17 03:01:10 WARN DAGScheduler: Broadcasting large task binary with size 1270.9 KiB\n",
      "24/04/17 03:01:12 WARN DAGScheduler: Broadcasting large task binary with size 1436.8 KiB\n",
      "24/04/17 03:01:15 WARN DAGScheduler: Broadcasting large task binary with size 3.6 MiB\n",
      "24/04/17 03:01:17 WARN DAGScheduler: Broadcasting large task binary with size 2.2 MiB\n",
      "24/04/17 03:01:19 WARN DAGScheduler: Broadcasting large task binary with size 1475.8 KiB\n",
      "24/04/17 03:01:22 WARN DAGScheduler: Broadcasting large task binary with size 2.1 MiB\n",
      "24/04/17 03:01:24 WARN DAGScheduler: Broadcasting large task binary with size 1870.7 KiB\n",
      "24/04/17 03:01:26 WARN DAGScheduler: Broadcasting large task binary with size 2.3 MiB\n",
      "24/04/17 03:01:28 WARN DAGScheduler: Broadcasting large task binary with size 1297.9 KiB\n",
      "24/04/17 03:01:31 WARN DAGScheduler: Broadcasting large task binary with size 1643.1 KiB\n",
      "24/04/17 03:01:33 WARN DAGScheduler: Broadcasting large task binary with size 2032.7 KiB\n",
      "24/04/17 03:01:35 WARN DAGScheduler: Broadcasting large task binary with size 1452.2 KiB\n",
      "24/04/17 03:01:38 WARN DAGScheduler: Broadcasting large task binary with size 1517.8 KiB\n",
      "24/04/17 03:01:40 WARN DAGScheduler: Broadcasting large task binary with size 2.2 MiB\n",
      "24/04/17 03:01:42 WARN DAGScheduler: Broadcasting large task binary with size 1452.7 KiB\n",
      "24/04/17 03:01:45 WARN DAGScheduler: Broadcasting large task binary with size 2.1 MiB\n",
      "24/04/17 03:01:47 WARN DAGScheduler: Broadcasting large task binary with size 1861.2 KiB\n",
      "24/04/17 03:01:50 WARN DAGScheduler: Broadcasting large task binary with size 1164.4 KiB\n",
      "24/04/17 03:01:54 WARN DAGScheduler: Broadcasting large task binary with size 13.4 MiB\n",
      "24/04/17 03:02:05 WARN DAGScheduler: Broadcasting large task binary with size 1025.0 KiB\n",
      "24/04/17 03:02:07 WARN DAGScheduler: Broadcasting large task binary with size 1143.2 KiB\n",
      "24/04/17 03:02:10 WARN DAGScheduler: Broadcasting large task binary with size 1522.7 KiB\n",
      "24/04/17 03:02:12 WARN DAGScheduler: Broadcasting large task binary with size 1863.6 KiB\n",
      "24/04/17 03:02:14 WARN DAGScheduler: Broadcasting large task binary with size 1140.5 KiB\n",
      "24/04/17 03:02:16 WARN DAGScheduler: Broadcasting large task binary with size 1522.6 KiB\n",
      "24/04/17 03:02:19 WARN DAGScheduler: Broadcasting large task binary with size 2047.1 KiB\n",
      "24/04/17 03:02:23 WARN DAGScheduler: Broadcasting large task binary with size 1320.1 KiB\n",
      "24/04/17 03:02:25 WARN DAGScheduler: Broadcasting large task binary with size 2.3 MiB\n",
      "24/04/17 03:02:28 WARN DAGScheduler: Broadcasting large task binary with size 1132.4 KiB\n",
      "24/04/17 03:02:30 WARN DAGScheduler: Broadcasting large task binary with size 2036.2 KiB\n",
      "24/04/17 03:02:32 WARN DAGScheduler: Broadcasting large task binary with size 6.6 MiB\n",
      "24/04/17 03:02:41 WARN DAGScheduler: Broadcasting large task binary with size 1027.1 KiB\n",
      "24/04/17 03:02:43 WARN DAGScheduler: Broadcasting large task binary with size 1136.3 KiB\n",
      "24/04/17 03:02:46 WARN DAGScheduler: Broadcasting large task binary with size 1520.0 KiB\n",
      "24/04/17 03:02:48 WARN DAGScheduler: Broadcasting large task binary with size 2.2 MiB\n",
      "24/04/17 03:02:50 WARN DAGScheduler: Broadcasting large task binary with size 1315.6 KiB\n",
      "24/04/17 03:02:53 WARN DAGScheduler: Broadcasting large task binary with size 1347.4 KiB\n",
      "24/04/17 03:02:55 WARN DAGScheduler: Broadcasting large task binary with size 2.5 MiB\n",
      "24/04/17 03:02:57 WARN DAGScheduler: Broadcasting large task binary with size 1820.5 KiB\n",
      "24/04/17 03:03:00 WARN DAGScheduler: Broadcasting large task binary with size 1511.3 KiB\n",
      "24/04/17 03:03:02 WARN DAGScheduler: Broadcasting large task binary with size 2047.2 KiB\n",
      "24/04/17 03:03:04 WARN DAGScheduler: Broadcasting large task binary with size 1258.6 KiB\n",
      "24/04/17 03:03:07 WARN DAGScheduler: Broadcasting large task binary with size 1439.6 KiB\n",
      "24/04/17 03:03:09 WARN DAGScheduler: Broadcasting large task binary with size 1260.8 KiB\n",
      "24/04/17 03:03:11 WARN DAGScheduler: Broadcasting large task binary with size 2.5 MiB\n",
      "24/04/17 03:03:14 WARN DAGScheduler: Broadcasting large task binary with size 1038.6 KiB\n",
      "24/04/17 03:03:16 WARN DAGScheduler: Broadcasting large task binary with size 1454.8 KiB\n",
      "24/04/17 03:03:19 WARN DAGScheduler: Broadcasting large task binary with size 1475.9 KiB\n",
      "24/04/17 03:03:21 WARN DAGScheduler: Broadcasting large task binary with size 2.3 MiB\n",
      "24/04/17 03:03:23 WARN DAGScheduler: Broadcasting large task binary with size 1320.6 KiB\n",
      "24/04/17 03:03:26 WARN DAGScheduler: Broadcasting large task binary with size 1523.9 KiB\n",
      "24/04/17 03:03:28 WARN DAGScheduler: Broadcasting large task binary with size 2042.7 KiB\n",
      "24/04/17 03:03:32 WARN DAGScheduler: Broadcasting large task binary with size 1352.8 KiB\n",
      "24/04/17 03:03:34 WARN DAGScheduler: Broadcasting large task binary with size 1868.3 KiB\n",
      "24/04/17 03:03:36 WARN DAGScheduler: Broadcasting large task binary with size 12.8 MiB\n",
      "24/04/17 03:03:47 WARN DAGScheduler: Broadcasting large task binary with size 1025.0 KiB\n",
      "24/04/17 03:03:49 WARN DAGScheduler: Broadcasting large task binary with size 1143.3 KiB\n",
      "24/04/17 03:03:52 WARN DAGScheduler: Broadcasting large task binary with size 1522.7 KiB\n",
      "24/04/17 03:03:54 WARN DAGScheduler: Broadcasting large task binary with size 1863.7 KiB\n",
      "24/04/17 03:03:56 WARN DAGScheduler: Broadcasting large task binary with size 1140.5 KiB\n",
      "24/04/17 03:03:59 WARN DAGScheduler: Broadcasting large task binary with size 1522.6 KiB\n",
      "24/04/17 03:04:01 WARN DAGScheduler: Broadcasting large task binary with size 2047.1 KiB\n",
      "24/04/17 03:04:05 WARN DAGScheduler: Broadcasting large task binary with size 1320.2 KiB\n",
      "24/04/17 03:04:08 WARN DAGScheduler: Broadcasting large task binary with size 2.3 MiB\n",
      "24/04/17 03:04:10 WARN DAGScheduler: Broadcasting large task binary with size 1132.5 KiB\n",
      "24/04/17 03:04:12 WARN DAGScheduler: Broadcasting large task binary with size 2036.2 KiB\n",
      "24/04/17 03:04:14 WARN DAGScheduler: Broadcasting large task binary with size 6.6 MiB\n",
      "24/04/17 03:04:23 WARN DAGScheduler: Broadcasting large task binary with size 1027.1 KiB\n",
      "24/04/17 03:04:26 WARN DAGScheduler: Broadcasting large task binary with size 1136.3 KiB\n",
      "24/04/17 03:04:28 WARN DAGScheduler: Broadcasting large task binary with size 1520.1 KiB\n",
      "24/04/17 03:04:30 WARN DAGScheduler: Broadcasting large task binary with size 2.2 MiB\n",
      "24/04/17 03:04:33 WARN DAGScheduler: Broadcasting large task binary with size 1315.6 KiB\n",
      "24/04/17 03:04:35 WARN DAGScheduler: Broadcasting large task binary with size 1347.4 KiB\n",
      "24/04/17 03:04:37 WARN DAGScheduler: Broadcasting large task binary with size 2.5 MiB\n",
      "24/04/17 03:04:40 WARN DAGScheduler: Broadcasting large task binary with size 1820.6 KiB\n",
      "24/04/17 03:04:42 WARN DAGScheduler: Broadcasting large task binary with size 1511.3 KiB\n",
      "24/04/17 03:04:44 WARN DAGScheduler: Broadcasting large task binary with size 2047.2 KiB\n",
      "24/04/17 03:04:47 WARN DAGScheduler: Broadcasting large task binary with size 1258.6 KiB\n",
      "24/04/17 03:04:49 WARN DAGScheduler: Broadcasting large task binary with size 1439.6 KiB\n",
      "24/04/17 03:04:51 WARN DAGScheduler: Broadcasting large task binary with size 1260.9 KiB\n",
      "24/04/17 03:04:54 WARN DAGScheduler: Broadcasting large task binary with size 2.5 MiB\n",
      "24/04/17 03:04:56 WARN DAGScheduler: Broadcasting large task binary with size 1038.6 KiB\n",
      "24/04/17 03:04:59 WARN DAGScheduler: Broadcasting large task binary with size 1454.8 KiB\n",
      "24/04/17 03:05:01 WARN DAGScheduler: Broadcasting large task binary with size 1475.9 KiB\n",
      "24/04/17 03:05:03 WARN DAGScheduler: Broadcasting large task binary with size 2.3 MiB\n",
      "24/04/17 03:05:05 WARN DAGScheduler: Broadcasting large task binary with size 1320.6 KiB\n",
      "24/04/17 03:05:08 WARN DAGScheduler: Broadcasting large task binary with size 1523.9 KiB\n",
      "24/04/17 03:05:10 WARN DAGScheduler: Broadcasting large task binary with size 2042.8 KiB\n",
      "24/04/17 03:05:14 WARN DAGScheduler: Broadcasting large task binary with size 1352.8 KiB\n",
      "24/04/17 03:05:16 WARN DAGScheduler: Broadcasting large task binary with size 1868.4 KiB\n",
      "24/04/17 03:05:18 WARN DAGScheduler: Broadcasting large task binary with size 12.8 MiB\n",
      "24/04/17 03:05:29 WARN DAGScheduler: Broadcasting large task binary with size 1022.7 KiB\n",
      "24/04/17 03:05:31 WARN DAGScheduler: Broadcasting large task binary with size 1442.4 KiB\n",
      "24/04/17 03:05:34 WARN DAGScheduler: Broadcasting large task binary with size 1814.4 KiB\n",
      "24/04/17 03:05:36 WARN DAGScheduler: Broadcasting large task binary with size 2.1 MiB\n",
      "24/04/17 03:05:38 WARN DAGScheduler: Broadcasting large task binary with size 1449.0 KiB\n",
      "24/04/17 03:05:41 WARN DAGScheduler: Broadcasting large task binary with size 1824.6 KiB\n",
      "24/04/17 03:05:43 WARN DAGScheduler: Broadcasting large task binary with size 2.3 MiB\n",
      "24/04/17 03:05:45 WARN DAGScheduler: Broadcasting large task binary with size 1367.5 KiB\n",
      "24/04/17 03:05:47 WARN DAGScheduler: Broadcasting large task binary with size 1785.2 KiB\n",
      "24/04/17 03:05:49 WARN DAGScheduler: Broadcasting large task binary with size 1606.9 KiB\n",
      "24/04/17 03:05:52 WARN DAGScheduler: Broadcasting large task binary with size 1647.7 KiB\n",
      "24/04/17 03:05:55 WARN DAGScheduler: Broadcasting large task binary with size 6.2 MiB\n",
      "24/04/17 03:06:04 WARN DAGScheduler: Broadcasting large task binary with size 1034.7 KiB\n",
      "24/04/17 03:06:06 WARN DAGScheduler: Broadcasting large task binary with size 1139.3 KiB\n",
      "24/04/17 03:06:09 WARN DAGScheduler: Broadcasting large task binary with size 1527.3 KiB\n",
      "24/04/17 03:06:11 WARN DAGScheduler: Broadcasting large task binary with size 2.2 MiB\n",
      "24/04/17 03:06:13 WARN DAGScheduler: Broadcasting large task binary with size 1309.8 KiB\n",
      "24/04/17 03:06:16 WARN DAGScheduler: Broadcasting large task binary with size 2.3 MiB\n",
      "24/04/17 03:06:18 WARN DAGScheduler: Broadcasting large task binary with size 2.6 MiB\n",
      "24/04/17 03:06:20 WARN DAGScheduler: Broadcasting large task binary with size 2.1 MiB\n",
      "24/04/17 03:06:23 WARN DAGScheduler: Broadcasting large task binary with size 1479.5 KiB\n",
      "24/04/17 03:06:25 WARN DAGScheduler: Broadcasting large task binary with size 2.1 MiB\n",
      "24/04/17 03:06:27 WARN DAGScheduler: Broadcasting large task binary with size 1739.3 KiB\n",
      "24/04/17 03:06:30 WARN DAGScheduler: Broadcasting large task binary with size 1660.6 KiB\n",
      "24/04/17 03:06:32 WARN DAGScheduler: Broadcasting large task binary with size 1538.7 KiB\n",
      "24/04/17 03:06:34 WARN DAGScheduler: Broadcasting large task binary with size 1241.0 KiB\n",
      "24/04/17 03:06:37 WARN DAGScheduler: Broadcasting large task binary with size 1654.4 KiB\n",
      "24/04/17 03:06:39 WARN DAGScheduler: Broadcasting large task binary with size 1346.6 KiB\n",
      "24/04/17 03:06:41 WARN DAGScheduler: Broadcasting large task binary with size 1933.9 KiB\n",
      "24/04/17 03:06:44 WARN DAGScheduler: Broadcasting large task binary with size 2.5 MiB\n",
      "24/04/17 03:06:46 WARN DAGScheduler: Broadcasting large task binary with size 1457.4 KiB\n",
      "24/04/17 03:06:48 WARN DAGScheduler: Broadcasting large task binary with size 1203.7 KiB\n",
      "24/04/17 03:06:51 WARN DAGScheduler: Broadcasting large task binary with size 1751.1 KiB\n",
      "24/04/17 03:06:53 WARN DAGScheduler: Broadcasting large task binary with size 1922.2 KiB\n",
      "24/04/17 03:06:56 WARN DAGScheduler: Broadcasting large task binary with size 1625.3 KiB\n",
      "24/04/17 03:06:57 WARN DAGScheduler: Broadcasting large task binary with size 2009.9 KiB\n",
      "24/04/17 03:06:58 WARN DAGScheduler: Broadcasting large task binary with size 1185.0 KiB\n",
      "24/04/17 03:06:59 WARN DAGScheduler: Broadcasting large task binary with size 13.3 MiB\n",
      "24/04/17 03:07:09 WARN DAGScheduler: Broadcasting large task binary with size 1022.8 KiB\n",
      "24/04/17 03:07:12 WARN DAGScheduler: Broadcasting large task binary with size 1442.5 KiB\n",
      "24/04/17 03:07:14 WARN DAGScheduler: Broadcasting large task binary with size 1814.4 KiB\n",
      "24/04/17 03:07:16 WARN DAGScheduler: Broadcasting large task binary with size 2.1 MiB\n",
      "24/04/17 03:07:19 WARN DAGScheduler: Broadcasting large task binary with size 1449.1 KiB\n",
      "24/04/17 03:07:21 WARN DAGScheduler: Broadcasting large task binary with size 1824.6 KiB\n",
      "24/04/17 03:07:24 WARN DAGScheduler: Broadcasting large task binary with size 2.3 MiB\n",
      "24/04/17 03:07:26 WARN DAGScheduler: Broadcasting large task binary with size 1367.6 KiB\n",
      "24/04/17 03:07:28 WARN DAGScheduler: Broadcasting large task binary with size 1785.2 KiB\n",
      "24/04/17 03:07:30 WARN DAGScheduler: Broadcasting large task binary with size 1607.0 KiB\n",
      "24/04/17 03:07:32 WARN DAGScheduler: Broadcasting large task binary with size 1647.8 KiB\n",
      "24/04/17 03:07:35 WARN DAGScheduler: Broadcasting large task binary with size 6.2 MiB\n",
      "24/04/17 03:07:44 WARN DAGScheduler: Broadcasting large task binary with size 1034.7 KiB\n",
      "24/04/17 03:07:47 WARN DAGScheduler: Broadcasting large task binary with size 1139.4 KiB\n",
      "24/04/17 03:07:49 WARN DAGScheduler: Broadcasting large task binary with size 1527.3 KiB\n",
      "24/04/17 03:07:51 WARN DAGScheduler: Broadcasting large task binary with size 2.2 MiB\n",
      "24/04/17 03:07:54 WARN DAGScheduler: Broadcasting large task binary with size 1309.8 KiB\n",
      "24/04/17 03:07:56 WARN DAGScheduler: Broadcasting large task binary with size 2.3 MiB\n",
      "24/04/17 03:07:59 WARN DAGScheduler: Broadcasting large task binary with size 2.6 MiB\n",
      "24/04/17 03:08:01 WARN DAGScheduler: Broadcasting large task binary with size 2.1 MiB\n",
      "24/04/17 03:08:03 WARN DAGScheduler: Broadcasting large task binary with size 1479.5 KiB\n",
      "24/04/17 03:08:06 WARN DAGScheduler: Broadcasting large task binary with size 2.1 MiB\n",
      "24/04/17 03:08:08 WARN DAGScheduler: Broadcasting large task binary with size 1739.3 KiB\n",
      "24/04/17 03:08:10 WARN DAGScheduler: Broadcasting large task binary with size 1660.6 KiB\n",
      "24/04/17 03:08:13 WARN DAGScheduler: Broadcasting large task binary with size 1538.8 KiB\n",
      "24/04/17 03:08:15 WARN DAGScheduler: Broadcasting large task binary with size 1241.0 KiB\n",
      "24/04/17 03:08:17 WARN DAGScheduler: Broadcasting large task binary with size 1654.5 KiB\n",
      "24/04/17 03:08:20 WARN DAGScheduler: Broadcasting large task binary with size 1346.7 KiB\n",
      "24/04/17 03:08:22 WARN DAGScheduler: Broadcasting large task binary with size 1934.0 KiB\n",
      "24/04/17 03:08:24 WARN DAGScheduler: Broadcasting large task binary with size 2.5 MiB\n",
      "24/04/17 03:08:27 WARN DAGScheduler: Broadcasting large task binary with size 1457.4 KiB\n",
      "24/04/17 03:08:29 WARN DAGScheduler: Broadcasting large task binary with size 1203.7 KiB\n",
      "24/04/17 03:08:31 WARN DAGScheduler: Broadcasting large task binary with size 1751.2 KiB\n",
      "24/04/17 03:08:34 WARN DAGScheduler: Broadcasting large task binary with size 1922.3 KiB\n",
      "24/04/17 03:08:36 WARN DAGScheduler: Broadcasting large task binary with size 1625.3 KiB\n",
      "24/04/17 03:08:37 WARN DAGScheduler: Broadcasting large task binary with size 2010.0 KiB\n",
      "24/04/17 03:08:38 WARN DAGScheduler: Broadcasting large task binary with size 1185.0 KiB\n",
      "24/04/17 03:08:39 WARN DAGScheduler: Broadcasting large task binary with size 13.3 MiB\n",
      "24/04/17 03:08:46 WARN CacheManager: Asked to cache already cached data.        \n",
      "24/04/17 03:08:46 WARN CacheManager: Asked to cache already cached data.\n",
      "24/04/17 03:08:50 WARN DAGScheduler: Broadcasting large task binary with size 1040.3 KiB\n",
      "24/04/17 03:08:52 WARN DAGScheduler: Broadcasting large task binary with size 1142.7 KiB\n",
      "24/04/17 03:08:54 WARN DAGScheduler: Broadcasting large task binary with size 1514.5 KiB\n",
      "24/04/17 03:08:57 WARN DAGScheduler: Broadcasting large task binary with size 2.2 MiB\n",
      "24/04/17 03:08:59 WARN DAGScheduler: Broadcasting large task binary with size 1366.0 KiB\n",
      "24/04/17 03:09:01 WARN DAGScheduler: Broadcasting large task binary with size 2.3 MiB\n",
      "24/04/17 03:09:04 WARN DAGScheduler: Broadcasting large task binary with size 2.5 MiB\n",
      "24/04/17 03:09:06 WARN DAGScheduler: Broadcasting large task binary with size 1752.8 KiB\n",
      "24/04/17 03:09:08 WARN DAGScheduler: Broadcasting large task binary with size 1524.9 KiB\n",
      "24/04/17 03:09:11 WARN DAGScheduler: Broadcasting large task binary with size 1786.6 KiB\n",
      "24/04/17 03:09:13 WARN DAGScheduler: Broadcasting large task binary with size 1437.1 KiB\n",
      "24/04/17 03:09:15 WARN DAGScheduler: Broadcasting large task binary with size 2.4 MiB\n",
      "24/04/17 03:09:16 WARN DAGScheduler: Broadcasting large task binary with size 6.8 MiB\n",
      "24/04/17 03:09:26 WARN DAGScheduler: Broadcasting large task binary with size 1040.6 KiB\n",
      "24/04/17 03:09:28 WARN DAGScheduler: Broadcasting large task binary with size 1154.5 KiB\n",
      "24/04/17 03:09:31 WARN DAGScheduler: Broadcasting large task binary with size 1524.0 KiB\n",
      "24/04/17 03:09:33 WARN DAGScheduler: Broadcasting large task binary with size 2.1 MiB\n",
      "24/04/17 03:09:35 WARN DAGScheduler: Broadcasting large task binary with size 1228.0 KiB\n",
      "24/04/17 03:09:38 WARN DAGScheduler: Broadcasting large task binary with size 1430.1 KiB\n",
      "24/04/17 03:09:40 WARN DAGScheduler: Broadcasting large task binary with size 3.5 MiB\n",
      "24/04/17 03:09:42 WARN DAGScheduler: Broadcasting large task binary with size 2.2 MiB\n",
      "24/04/17 03:09:45 WARN DAGScheduler: Broadcasting large task binary with size 1432.3 KiB\n",
      "24/04/17 03:09:47 WARN DAGScheduler: Broadcasting large task binary with size 1840.4 KiB\n",
      "24/04/17 03:09:50 WARN DAGScheduler: Broadcasting large task binary with size 1265.0 KiB\n",
      "24/04/17 03:09:52 WARN DAGScheduler: Broadcasting large task binary with size 2.6 MiB\n",
      "24/04/17 03:09:54 WARN DAGScheduler: Broadcasting large task binary with size 1136.3 KiB\n",
      "24/04/17 03:09:57 WARN DAGScheduler: Broadcasting large task binary with size 2.1 MiB\n",
      "24/04/17 03:09:59 WARN DAGScheduler: Broadcasting large task binary with size 2008.4 KiB\n",
      "24/04/17 03:10:01 WARN DAGScheduler: Broadcasting large task binary with size 1353.9 KiB\n",
      "24/04/17 03:10:04 WARN DAGScheduler: Broadcasting large task binary with size 1631.8 KiB\n",
      "24/04/17 03:10:06 WARN DAGScheduler: Broadcasting large task binary with size 2.2 MiB\n",
      "24/04/17 03:10:08 WARN DAGScheduler: Broadcasting large task binary with size 1516.6 KiB\n",
      "24/04/17 03:10:11 WARN DAGScheduler: Broadcasting large task binary with size 1920.0 KiB\n",
      "24/04/17 03:10:13 WARN DAGScheduler: Broadcasting large task binary with size 1614.5 KiB\n",
      "24/04/17 03:10:15 WARN DAGScheduler: Broadcasting large task binary with size 1386.6 KiB\n",
      "24/04/17 03:10:18 WARN DAGScheduler: Broadcasting large task binary with size 1222.5 KiB\n",
      "24/04/17 03:10:21 WARN DAGScheduler: Broadcasting large task binary with size 13.4 MiB\n",
      "24/04/17 03:10:32 WARN DAGScheduler: Broadcasting large task binary with size 1040.3 KiB\n",
      "24/04/17 03:10:35 WARN DAGScheduler: Broadcasting large task binary with size 1142.7 KiB\n",
      "24/04/17 03:10:37 WARN DAGScheduler: Broadcasting large task binary with size 1514.5 KiB\n",
      "24/04/17 03:10:39 WARN DAGScheduler: Broadcasting large task binary with size 2.2 MiB\n",
      "24/04/17 03:10:41 WARN DAGScheduler: Broadcasting large task binary with size 1366.0 KiB\n",
      "24/04/17 03:10:44 WARN DAGScheduler: Broadcasting large task binary with size 2.3 MiB\n",
      "24/04/17 03:10:46 WARN DAGScheduler: Broadcasting large task binary with size 2.5 MiB\n",
      "24/04/17 03:10:49 WARN DAGScheduler: Broadcasting large task binary with size 1752.8 KiB\n",
      "24/04/17 03:10:51 WARN DAGScheduler: Broadcasting large task binary with size 1524.9 KiB\n",
      "24/04/17 03:10:53 WARN DAGScheduler: Broadcasting large task binary with size 1786.6 KiB\n",
      "24/04/17 03:10:55 WARN DAGScheduler: Broadcasting large task binary with size 1437.1 KiB\n",
      "24/04/17 03:10:58 WARN DAGScheduler: Broadcasting large task binary with size 2.4 MiB\n",
      "24/04/17 03:10:59 WARN DAGScheduler: Broadcasting large task binary with size 6.8 MiB\n",
      "24/04/17 03:11:08 WARN DAGScheduler: Broadcasting large task binary with size 1040.6 KiB\n",
      "24/04/17 03:11:10 WARN DAGScheduler: Broadcasting large task binary with size 1154.5 KiB\n",
      "24/04/17 03:11:13 WARN DAGScheduler: Broadcasting large task binary with size 1524.0 KiB\n",
      "24/04/17 03:11:15 WARN DAGScheduler: Broadcasting large task binary with size 2.1 MiB\n",
      "24/04/17 03:11:17 WARN DAGScheduler: Broadcasting large task binary with size 1228.0 KiB\n",
      "24/04/17 03:11:20 WARN DAGScheduler: Broadcasting large task binary with size 1430.1 KiB\n",
      "24/04/17 03:11:22 WARN DAGScheduler: Broadcasting large task binary with size 3.5 MiB\n",
      "24/04/17 03:11:25 WARN DAGScheduler: Broadcasting large task binary with size 2.2 MiB\n",
      "24/04/17 03:11:27 WARN DAGScheduler: Broadcasting large task binary with size 1432.3 KiB\n",
      "24/04/17 03:11:29 WARN DAGScheduler: Broadcasting large task binary with size 1840.4 KiB\n",
      "24/04/17 03:11:32 WARN DAGScheduler: Broadcasting large task binary with size 1265.0 KiB\n",
      "24/04/17 03:11:34 WARN DAGScheduler: Broadcasting large task binary with size 2.6 MiB\n",
      "24/04/17 03:11:36 WARN DAGScheduler: Broadcasting large task binary with size 1136.3 KiB\n",
      "24/04/17 03:11:39 WARN DAGScheduler: Broadcasting large task binary with size 2.1 MiB\n",
      "24/04/17 03:11:41 WARN DAGScheduler: Broadcasting large task binary with size 2008.4 KiB\n",
      "24/04/17 03:11:44 WARN DAGScheduler: Broadcasting large task binary with size 1353.9 KiB\n",
      "24/04/17 03:11:46 WARN DAGScheduler: Broadcasting large task binary with size 1631.8 KiB\n",
      "24/04/17 03:11:48 WARN DAGScheduler: Broadcasting large task binary with size 2.2 MiB\n",
      "24/04/17 03:11:51 WARN DAGScheduler: Broadcasting large task binary with size 1516.6 KiB\n",
      "24/04/17 03:11:53 WARN DAGScheduler: Broadcasting large task binary with size 1920.0 KiB\n",
      "24/04/17 03:11:55 WARN DAGScheduler: Broadcasting large task binary with size 1614.5 KiB\n",
      "24/04/17 03:11:58 WARN DAGScheduler: Broadcasting large task binary with size 1386.6 KiB\n",
      "24/04/17 03:12:00 WARN DAGScheduler: Broadcasting large task binary with size 1222.5 KiB\n",
      "24/04/17 03:12:04 WARN DAGScheduler: Broadcasting large task binary with size 13.4 MiB\n",
      "24/04/17 03:12:15 WARN DAGScheduler: Broadcasting large task binary with size 1029.6 KiB\n",
      "24/04/17 03:12:17 WARN DAGScheduler: Broadcasting large task binary with size 1141.6 KiB\n",
      "24/04/17 03:12:19 WARN DAGScheduler: Broadcasting large task binary with size 1523.3 KiB\n",
      "24/04/17 03:12:22 WARN DAGScheduler: Broadcasting large task binary with size 2.1 MiB\n",
      "24/04/17 03:12:24 WARN DAGScheduler: Broadcasting large task binary with size 1264.1 KiB\n",
      "24/04/17 03:12:26 WARN DAGScheduler: Broadcasting large task binary with size 2.2 MiB\n",
      "24/04/17 03:12:28 WARN DAGScheduler: Broadcasting large task binary with size 2.4 MiB\n",
      "24/04/17 03:12:31 WARN DAGScheduler: Broadcasting large task binary with size 2.1 MiB\n",
      "24/04/17 03:12:33 WARN DAGScheduler: Broadcasting large task binary with size 1514.0 KiB\n",
      "24/04/17 03:12:35 WARN DAGScheduler: Broadcasting large task binary with size 1740.0 KiB\n",
      "24/04/17 03:12:37 WARN DAGScheduler: Broadcasting large task binary with size 1261.4 KiB\n",
      "24/04/17 03:12:39 WARN DAGScheduler: Broadcasting large task binary with size 2036.9 KiB\n",
      "24/04/17 03:12:41 WARN DAGScheduler: Broadcasting large task binary with size 6.5 MiB\n",
      "24/04/17 03:12:50 WARN DAGScheduler: Broadcasting large task binary with size 1030.4 KiB\n",
      "24/04/17 03:12:53 WARN DAGScheduler: Broadcasting large task binary with size 1137.7 KiB\n",
      "24/04/17 03:12:55 WARN DAGScheduler: Broadcasting large task binary with size 1514.1 KiB\n",
      "24/04/17 03:12:57 WARN DAGScheduler: Broadcasting large task binary with size 2.2 MiB\n",
      "24/04/17 03:13:00 WARN DAGScheduler: Broadcasting large task binary with size 1274.6 KiB\n",
      "24/04/17 03:13:02 WARN DAGScheduler: Broadcasting large task binary with size 1388.8 KiB\n",
      "24/04/17 03:13:04 WARN DAGScheduler: Broadcasting large task binary with size 3.7 MiB\n",
      "24/04/17 03:13:07 WARN DAGScheduler: Broadcasting large task binary with size 2.1 MiB\n",
      "24/04/17 03:13:09 WARN DAGScheduler: Broadcasting large task binary with size 1528.6 KiB\n",
      "24/04/17 03:13:11 WARN DAGScheduler: Broadcasting large task binary with size 1970.2 KiB\n",
      "24/04/17 03:13:14 WARN DAGScheduler: Broadcasting large task binary with size 1664.9 KiB\n",
      "24/04/17 03:13:16 WARN DAGScheduler: Broadcasting large task binary with size 1821.2 KiB\n",
      "24/04/17 03:13:18 WARN DAGScheduler: Broadcasting large task binary with size 1174.8 KiB\n",
      "24/04/17 03:13:20 WARN DAGScheduler: Broadcasting large task binary with size 1156.3 KiB\n",
      "24/04/17 03:13:23 WARN DAGScheduler: Broadcasting large task binary with size 1658.4 KiB\n",
      "24/04/17 03:13:25 WARN DAGScheduler: Broadcasting large task binary with size 1354.4 KiB\n",
      "24/04/17 03:13:27 WARN DAGScheduler: Broadcasting large task binary with size 1695.0 KiB\n",
      "24/04/17 03:13:30 WARN DAGScheduler: Broadcasting large task binary with size 1835.2 KiB\n",
      "24/04/17 03:13:32 WARN DAGScheduler: Broadcasting large task binary with size 1528.2 KiB\n",
      "24/04/17 03:13:34 WARN DAGScheduler: Broadcasting large task binary with size 1832.6 KiB\n",
      "24/04/17 03:13:37 WARN DAGScheduler: Broadcasting large task binary with size 1525.9 KiB\n",
      "24/04/17 03:13:39 WARN DAGScheduler: Broadcasting large task binary with size 1485.4 KiB\n",
      "24/04/17 03:13:42 WARN DAGScheduler: Broadcasting large task binary with size 1525.9 KiB\n",
      "24/04/17 03:13:44 WARN DAGScheduler: Broadcasting large task binary with size 1247.0 KiB\n",
      "24/04/17 03:13:45 WARN DAGScheduler: Broadcasting large task binary with size 13.5 MiB\n",
      "24/04/17 03:13:56 WARN DAGScheduler: Broadcasting large task binary with size 1029.7 KiB\n",
      "24/04/17 03:13:58 WARN DAGScheduler: Broadcasting large task binary with size 1141.6 KiB\n",
      "24/04/17 03:14:00 WARN DAGScheduler: Broadcasting large task binary with size 1523.4 KiB\n",
      "24/04/17 03:14:03 WARN DAGScheduler: Broadcasting large task binary with size 2.1 MiB\n",
      "24/04/17 03:14:05 WARN DAGScheduler: Broadcasting large task binary with size 1264.2 KiB\n",
      "24/04/17 03:14:07 WARN DAGScheduler: Broadcasting large task binary with size 2.2 MiB\n",
      "24/04/17 03:14:09 WARN DAGScheduler: Broadcasting large task binary with size 2.4 MiB\n",
      "24/04/17 03:14:12 WARN DAGScheduler: Broadcasting large task binary with size 2.1 MiB\n",
      "24/04/17 03:14:14 WARN DAGScheduler: Broadcasting large task binary with size 1514.0 KiB\n",
      "24/04/17 03:14:16 WARN DAGScheduler: Broadcasting large task binary with size 1740.1 KiB\n",
      "24/04/17 03:14:18 WARN DAGScheduler: Broadcasting large task binary with size 1261.4 KiB\n",
      "24/04/17 03:14:20 WARN DAGScheduler: Broadcasting large task binary with size 2036.9 KiB\n",
      "24/04/17 03:14:22 WARN DAGScheduler: Broadcasting large task binary with size 6.5 MiB\n",
      "24/04/17 03:14:31 WARN DAGScheduler: Broadcasting large task binary with size 1030.4 KiB\n",
      "24/04/17 03:14:33 WARN DAGScheduler: Broadcasting large task binary with size 1137.7 KiB\n",
      "24/04/17 03:14:36 WARN DAGScheduler: Broadcasting large task binary with size 1514.1 KiB\n",
      "24/04/17 03:14:38 WARN DAGScheduler: Broadcasting large task binary with size 2.2 MiB\n",
      "24/04/17 03:14:40 WARN DAGScheduler: Broadcasting large task binary with size 1274.6 KiB\n",
      "24/04/17 03:14:43 WARN DAGScheduler: Broadcasting large task binary with size 1388.8 KiB\n",
      "24/04/17 03:14:45 WARN DAGScheduler: Broadcasting large task binary with size 3.7 MiB\n",
      "24/04/17 03:14:47 WARN DAGScheduler: Broadcasting large task binary with size 2.1 MiB\n",
      "24/04/17 03:14:49 WARN DAGScheduler: Broadcasting large task binary with size 1528.6 KiB\n",
      "24/04/17 03:14:52 WARN DAGScheduler: Broadcasting large task binary with size 1970.2 KiB\n",
      "24/04/17 03:14:54 WARN DAGScheduler: Broadcasting large task binary with size 1664.9 KiB\n",
      "24/04/17 03:14:56 WARN DAGScheduler: Broadcasting large task binary with size 1821.2 KiB\n",
      "24/04/17 03:14:59 WARN DAGScheduler: Broadcasting large task binary with size 1174.8 KiB\n",
      "24/04/17 03:15:01 WARN DAGScheduler: Broadcasting large task binary with size 1156.3 KiB\n",
      "24/04/17 03:15:03 WARN DAGScheduler: Broadcasting large task binary with size 1658.4 KiB\n",
      "24/04/17 03:15:06 WARN DAGScheduler: Broadcasting large task binary with size 1354.4 KiB\n",
      "24/04/17 03:15:08 WARN DAGScheduler: Broadcasting large task binary with size 1695.0 KiB\n",
      "24/04/17 03:15:10 WARN DAGScheduler: Broadcasting large task binary with size 1835.2 KiB\n",
      "24/04/17 03:15:13 WARN DAGScheduler: Broadcasting large task binary with size 1528.2 KiB\n",
      "24/04/17 03:15:15 WARN DAGScheduler: Broadcasting large task binary with size 1832.6 KiB\n",
      "24/04/17 03:15:17 WARN DAGScheduler: Broadcasting large task binary with size 1525.9 KiB\n",
      "24/04/17 03:15:19 WARN DAGScheduler: Broadcasting large task binary with size 1485.4 KiB\n",
      "24/04/17 03:15:23 WARN DAGScheduler: Broadcasting large task binary with size 1525.9 KiB\n",
      "24/04/17 03:15:25 WARN DAGScheduler: Broadcasting large task binary with size 1247.0 KiB\n",
      "24/04/17 03:15:25 WARN DAGScheduler: Broadcasting large task binary with size 13.5 MiB\n",
      "24/04/17 03:15:38 WARN DAGScheduler: Broadcasting large task binary with size 1045.2 KiB\n",
      "24/04/17 03:15:40 WARN DAGScheduler: Broadcasting large task binary with size 1150.6 KiB\n",
      "24/04/17 03:15:42 WARN DAGScheduler: Broadcasting large task binary with size 1401.0 KiB\n",
      "24/04/17 03:15:45 WARN DAGScheduler: Broadcasting large task binary with size 2.9 MiB\n",
      "24/04/17 03:15:47 WARN DAGScheduler: Broadcasting large task binary with size 1883.3 KiB\n",
      "24/04/17 03:15:49 WARN DAGScheduler: Broadcasting large task binary with size 1488.6 KiB\n",
      "24/04/17 03:15:52 WARN DAGScheduler: Broadcasting large task binary with size 1493.7 KiB\n",
      "24/04/17 03:15:54 WARN DAGScheduler: Broadcasting large task binary with size 1152.9 KiB\n",
      "24/04/17 03:15:57 WARN DAGScheduler: Broadcasting large task binary with size 1707.2 KiB\n",
      "24/04/17 03:15:59 WARN DAGScheduler: Broadcasting large task binary with size 2.9 MiB\n",
      "24/04/17 03:16:01 WARN DAGScheduler: Broadcasting large task binary with size 1372.4 KiB\n",
      "24/04/17 03:16:03 WARN DAGScheduler: Broadcasting large task binary with size 2.1 MiB\n",
      "24/04/17 03:16:05 WARN DAGScheduler: Broadcasting large task binary with size 1663.1 KiB\n",
      "24/04/17 03:16:08 WARN DAGScheduler: Broadcasting large task binary with size 1263.6 KiB\n"
     ]
    }
   ],
   "source": [
    "# dt_model = crossval_dt.fit(movies_df)\n",
    "rf_model = crossval_rf.fit(movies_df)"
   ]
  },
  {
   "cell_type": "code",
   "execution_count": 232,
   "id": "525fd104-3a15-49e9-8115-1e6c09f9ceae",
   "metadata": {},
   "outputs": [],
   "source": [
    "predictions_dt = rf_model.transform(movies_df)\n"
   ]
  },
  {
   "cell_type": "code",
   "execution_count": 233,
   "id": "e0620bcd-5ead-4dc5-9fe1-aa158ea0698b",
   "metadata": {},
   "outputs": [],
   "source": [
    "indexer_model = StringIndexer(inputCol=\"genres\", outputCol=\"genre_index2\").fit(movies_df)\n"
   ]
  },
  {
   "cell_type": "code",
   "execution_count": 234,
   "id": "dfbbbb58-c5d0-46bb-8ce7-3ec504ce8c9c",
   "metadata": {},
   "outputs": [],
   "source": [
    "predictions_dt = indexer_model.transform(predictions_dt)\n"
   ]
  },
  {
   "cell_type": "code",
   "execution_count": 235,
   "id": "d237216f-a84c-42d6-9cdb-0295f589eda6",
   "metadata": {},
   "outputs": [
    {
     "name": "stderr",
     "output_type": "stream",
     "text": [
      "24/04/17 03:18:30 WARN DAGScheduler: Broadcasting large task binary with size 6.4 MiB\n",
      "                                                                                \r"
     ]
    }
   ],
   "source": [
    "confusion_matrix_dt = confusion_matrix(predictions_dt.select(\"genre_index2\").collect(), predictions_dt.select(\"prediction\").collect())\n"
   ]
  },
  {
   "cell_type": "code",
   "execution_count": 236,
   "id": "ba9a9429-4e3f-4f1e-959f-de06db7a965d",
   "metadata": {},
   "outputs": [
    {
     "name": "stderr",
     "output_type": "stream",
     "text": [
      "24/04/17 03:19:20 WARN DAGScheduler: Broadcasting large task binary with size 6.4 MiB\n",
      "                                                                                \r"
     ]
    }
   ],
   "source": [
    "accuracy_dt = accuracy_score(predictions_dt.select(\"genre_index2\").collect(), predictions_dt.select(\"prediction\").collect())\n"
   ]
  },
  {
   "cell_type": "code",
   "execution_count": 237,
   "id": "3b901e64-b483-4664-86d3-fa5677519aa9",
   "metadata": {},
   "outputs": [
    {
     "name": "stderr",
     "output_type": "stream",
     "text": [
      "24/04/17 03:20:01 WARN DAGScheduler: Broadcasting large task binary with size 6.4 MiB\n",
      "/Library/Frameworks/Python.framework/Versions/3.11/lib/python3.11/site-packages/sklearn/metrics/_classification.py:1497: UndefinedMetricWarning: Precision is ill-defined and being set to 0.0 in labels with no predicted samples. Use `zero_division` parameter to control this behavior.\n",
      "  _warn_prf(average, modifier, f\"{metric.capitalize()} is\", len(result))\n"
     ]
    }
   ],
   "source": [
    "precision_dt = precision_score(predictions_dt.select(\"genre_index2\").collect(), predictions_dt.select(\"prediction\").collect(), average='macro')\n"
   ]
  },
  {
   "cell_type": "code",
   "execution_count": 238,
   "id": "f11f34c8-bbdb-4f98-89dc-146afe22f19e",
   "metadata": {},
   "outputs": [
    {
     "name": "stderr",
     "output_type": "stream",
     "text": [
      "24/04/17 03:20:40 WARN DAGScheduler: Broadcasting large task binary with size 6.4 MiB\n",
      "                                                                                \r"
     ]
    }
   ],
   "source": [
    "recall_dt = recall_score(predictions_dt.select(\"genre_index2\").collect(), predictions_dt.select(\"prediction\").collect(), average='macro')\n"
   ]
  },
  {
   "cell_type": "code",
   "execution_count": 239,
   "id": "45367dc1-63b4-4105-88a5-c5783ad4221a",
   "metadata": {},
   "outputs": [
    {
     "name": "stderr",
     "output_type": "stream",
     "text": [
      "24/04/17 03:20:59 WARN DAGScheduler: Broadcasting large task binary with size 6.4 MiB\n",
      "                                                                                \r"
     ]
    }
   ],
   "source": [
    "f1_dt = f1_score(predictions_dt.select(\"genre_index2\").collect(), predictions_dt.select(\"prediction\").collect(), average='macro')\n"
   ]
  },
  {
   "cell_type": "code",
   "execution_count": 240,
   "id": "5418e88a-c7cb-482f-b3b2-8f2080107b02",
   "metadata": {},
   "outputs": [
    {
     "name": "stdout",
     "output_type": "stream",
     "text": [
      "Confusion Matrix - Decision Tree:\n",
      "[[10997  1113    53 ...     0     0     0]\n",
      " [ 5378  2528    19 ...     0     0     0]\n",
      " [ 6218  1282   123 ...     0     0     0]\n",
      " ...\n",
      " [    1     0     0 ...     0     0     0]\n",
      " [    1     0     0 ...     0     0     0]\n",
      " [    1     0     0 ...     0     0     0]]\n",
      "Accuracy - Decision Tree: 0.16350231692801923\n",
      "Precision - Decision Tree: 0.001168727881152141\n",
      "Recall - Decision Tree: 0.0007375331621249865\n",
      "F1 Score - Decision Tree: 0.0004023924658307174\n"
     ]
    }
   ],
   "source": [
    "print(\"Confusion Matrix - Decision Tree:\")\n",
    "print(confusion_matrix_dt)\n",
    "print(\"Accuracy - Decision Tree:\", accuracy_dt)\n",
    "print(\"Precision - Decision Tree:\", precision_dt)\n",
    "print(\"Recall - Decision Tree:\", recall_dt)\n",
    "print(\"F1 Score - Decision Tree:\", f1_dt)"
   ]
  },
  {
   "cell_type": "code",
   "execution_count": null,
   "id": "cd77f9a1-bdba-43ae-b608-00e2763ea2ae",
   "metadata": {},
   "outputs": [],
   "source": []
  }
 ],
 "metadata": {
  "kernelspec": {
   "display_name": "Python 3 (ipykernel)",
   "language": "python",
   "name": "python3"
  },
  "language_info": {
   "codemirror_mode": {
    "name": "ipython",
    "version": 3
   },
   "file_extension": ".py",
   "mimetype": "text/x-python",
   "name": "python",
   "nbconvert_exporter": "python",
   "pygments_lexer": "ipython3",
   "version": "3.10.14"
  }
 },
 "nbformat": 4,
 "nbformat_minor": 5
}
